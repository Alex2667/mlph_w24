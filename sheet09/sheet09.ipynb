{
 "cells": [
  {
   "cell_type": "markdown",
   "metadata": {},
   "source": [
    "**Names: Philipp Köhler, Alexander Bespalov**\n"
   ]
  },
  {
   "cell_type": "markdown",
   "metadata": {},
   "source": [
    "# Sheet 9"
   ]
  },
  {
   "cell_type": "markdown",
   "metadata": {},
   "source": [
    "## 1 Pretraining LLMs"
   ]
  },
  {
   "cell_type": "markdown",
   "metadata": {},
   "source": [
    "### (a)\n",
    "1. Sentence Ordering Prediciton (SOP)\\\n",
    "Given two sentences the model has to predict wether one sentence follws the other or the other way around. This enables the model to understand temporal and logical progession. It is important for summarization, understandig and coherence. Compared to NSP the understanding is more fine-grained and improves understanding of contextual dependencies.\n",
    "2. Coreference Resolution (CR)\\\n",
    "The model must identify which pronouns or noun phrases refer to the same entity. The model learns to track entities which leads to better understanding and coherence over longer spans. \n",
    "\n",
    "### (b)\n",
    "1. Sentence Reconstruction (SR)\\\n",
    "A shuffled sentence has to be reordered. This improves the syntactic and grammatical understanding leading to more coherence and flucency. The complexity is $O(n^2)$ (evaluation of all pairwise relations). During training multiple permutations can be processed in parallel.\n",
    "2. Gap Sentence Generation (GSG)\\\n",
    "Gven a passage with a missing sentence inbeween the missing sentence has to be reconstructed. The model learns to infer missing information leading to better story generation and context based reasoining. Further, bidirecitonal reasoning is promoted. The complexity is $O(n)$ with $n$ being the sentence lenght.  During training multiple gaps can be processed in parallel as it is the case in CLM."
   ]
  },
  {
   "cell_type": "markdown",
   "metadata": {},
   "source": [
    "## 2 Under the hood of LLMs: Llama 2.7B"
   ]
  },
  {
   "cell_type": "markdown",
   "metadata": {},
   "source": [
    "Import modules. Use CUDA(GPU) if abailable. Read access token. Initialize tokenizer and model."
   ]
  },
  {
   "cell_type": "code",
   "execution_count": 1,
   "metadata": {},
   "outputs": [
    {
     "data": {
      "application/vnd.jupyter.widget-view+json": {
       "model_id": "be1bbb8571f849f7889e3030f815fce3",
       "version_major": 2,
       "version_minor": 0
      },
      "text/plain": [
       "Loading checkpoint shards:   0%|          | 0/2 [00:00<?, ?it/s]"
      ]
     },
     "metadata": {},
     "output_type": "display_data"
    },
    {
     "name": "stdout",
     "output_type": "stream",
     "text": [
      "LlamaForCausalLM(\n",
      "  (model): LlamaModel(\n",
      "    (embed_tokens): Embedding(32000, 4096)\n",
      "    (layers): ModuleList(\n",
      "      (0-31): 32 x LlamaDecoderLayer(\n",
      "        (self_attn): LlamaSdpaAttention(\n",
      "          (q_proj): Linear(in_features=4096, out_features=4096, bias=False)\n",
      "          (k_proj): Linear(in_features=4096, out_features=4096, bias=False)\n",
      "          (v_proj): Linear(in_features=4096, out_features=4096, bias=False)\n",
      "          (o_proj): Linear(in_features=4096, out_features=4096, bias=False)\n",
      "          (rotary_emb): LlamaRotaryEmbedding()\n",
      "        )\n",
      "        (mlp): LlamaMLP(\n",
      "          (gate_proj): Linear(in_features=4096, out_features=11008, bias=False)\n",
      "          (up_proj): Linear(in_features=4096, out_features=11008, bias=False)\n",
      "          (down_proj): Linear(in_features=11008, out_features=4096, bias=False)\n",
      "          (act_fn): SiLU()\n",
      "        )\n",
      "        (input_layernorm): LlamaRMSNorm((4096,), eps=1e-05)\n",
      "        (post_attention_layernorm): LlamaRMSNorm((4096,), eps=1e-05)\n",
      "      )\n",
      "    )\n",
      "    (norm): LlamaRMSNorm((4096,), eps=1e-05)\n",
      "    (rotary_emb): LlamaRotaryEmbedding()\n",
      "  )\n",
      "  (lm_head): Linear(in_features=4096, out_features=32000, bias=False)\n",
      ")\n"
     ]
    }
   ],
   "source": [
    "from transformers import AutoTokenizer, AutoModelForCausalLM\n",
    "import torch\n",
    "\n",
    "device = torch.device('cuda:0' if torch.cuda.is_available() else 'cpu')\n",
    "\n",
    "with open(\"access_token.txt\", \"r\") as f:\n",
    "    access_token = f.read().strip()\n",
    "\n",
    "model = \"meta-llama/Llama-2-7b-chat-hf\"\n",
    "tokenizer = AutoTokenizer.from_pretrained(model, token=access_token)\n",
    "model = AutoModelForCausalLM.from_pretrained(model, token=access_token, torch_dtype = torch.float16).to(device)\n",
    "print(model)"
   ]
  },
  {
   "cell_type": "markdown",
   "metadata": {},
   "source": [
    "Print token meaning, i.e. the decoded token, for the tokens 5100 to 5109. The number of tokens available tokens is printed. \"Sun\" is encoded into its token id. The sun_id is decoded again. \\<s\\> with the id=1 is a token that indicates the start of a sequence. The embedding shape shows that sun_id has two tokens in a 4096 dimensional embedding."
   ]
  },
  {
   "cell_type": "code",
   "execution_count": 2,
   "metadata": {},
   "outputs": [
    {
     "name": "stdout",
     "output_type": "stream",
     "text": [
      "id=5100, compet\n",
      "id=5101, pair\n",
      "id=5102, inglés\n",
      "id=5103, Response\n",
      "id=5104, Fig\n",
      "id=5105, grad\n",
      "id=5106, documentation\n",
      "id=5107, cant\n",
      "id=5108, appreci\n",
      "id=5109, ån\n",
      "\n",
      "tokenizer length: 32000\n",
      "\n",
      "sun_id=tensor([   1, 6575])\n",
      "<s> sun\n",
      "embedding shape: torch.Size([2, 4096])\n"
     ]
    }
   ],
   "source": [
    "for id in range(5100, 5110):\n",
    "    print(f\"{id=}, {tokenizer.decode([id])}\")\n",
    "\n",
    "print(\"\\ntokenizer length:\", len(tokenizer))\n",
    "\n",
    "sun_id = tokenizer.encode(\"sun\", return_tensors=\"pt\")[-1]\n",
    "print(f\"\\n{sun_id=}\")\n",
    "\n",
    "print(tokenizer.decode(sun_id))\n",
    "\n",
    "emb = model.get_input_embeddings()(sun_id.to(device))\n",
    "print(\"embedding shape:\", emb.shape)"
   ]
  },
  {
   "cell_type": "markdown",
   "metadata": {},
   "source": [
    "initialize sequence. Encode it and decode it for viewing purpose. Deactivate gradient and compute output of model. Extract logits of the first (and only one) sequence for the last token in the sequence. The shape corresponds to the tokenizer lenght as for each available token a logit is generated. The higher the logit the more probable the token fits as a continuation of the sequence. Convert the logits to probabilites with softmax. Retrieve top 7 most probable tokens. Print the 7 decoded tokens and their probability."
   ]
  },
  {
   "cell_type": "code",
   "execution_count": 3,
   "metadata": {},
   "outputs": [
    {
     "name": "stdout",
     "output_type": "stream",
     "text": [
      "<s> My favorite composer is\n",
      "\n",
      "logits shape: torch.Size([32000])\n",
      "\n",
      "Outputs:\n",
      "\n",
      "Moz: 0.25\n",
      "Ch: 0.11\n",
      "Be: 0.09\n",
      "Ludwig: 0.08\n",
      "Fr: 0.03\n",
      "Wolfgang: 0.02\n",
      "Ig: 0.02\n"
     ]
    }
   ],
   "source": [
    "sequence = \"My favorite composer is\"\n",
    "model_inputs = tokenizer(sequence, return_tensors=\"pt\").to(device)\n",
    "print(tokenizer.decode(model_inputs[\"input_ids\"].tolist()[0])) # view tokenized input\n",
    "with torch.no_grad():\n",
    "    outputs = model(**model_inputs)\n",
    "\n",
    "logits = outputs['logits'][0, -1, :]\n",
    "print(\"\\nlogits shape:\", logits.shape)\n",
    "\n",
    "probabilities = torch.nn.functional.softmax(logits, dim=-1)\n",
    "top_k = 7\n",
    "top_prob, top_ind = torch.topk(probabilities, top_k)\n",
    "\n",
    "print(\"\\nOutputs:\\n\")\n",
    "\n",
    "for i in range(top_k):\n",
    "    print(f\"{tokenizer.decode(top_ind[i].tolist())}: {top_prob[i]:.2f}\")"
   ]
  },
  {
   "cell_type": "markdown",
   "metadata": {},
   "source": [
    "Initialize empty sequence. Encode it. Print the generated sequence after adding new tokens. The adding of new tokens follows the steps of calculating the output of the model given the generated answer. Extracting the logits, converting them to probabilties with softmax and choosing the token with the highest probability as the next token. Furtehr, adding the token to the model inputs. The next token is decoded, cleaned from unwanted sign with regex and the generated sequence is printed. This is repeated 30 times.  "
   ]
  },
  {
   "cell_type": "code",
   "execution_count": 4,
   "metadata": {},
   "outputs": [
    {
     "name": "stdout",
     "output_type": "stream",
     "text": [
      "Unterscheidung \n",
      "Unterscheidung zwischen \n",
      "Unterscheidung zwischen  \n",
      "Unterscheidung zwischen  K \n",
      "Unterscheidung zwischen  K raft \n",
      "Unterscheidung zwischen  K raft  \n",
      "Unterscheidung zwischen  K raft  und \n",
      "Unterscheidung zwischen  K raft  und  \n",
      "Unterscheidung zwischen  K raft  und  K \n",
      "Unterscheidung zwischen  K raft  und  K raft \n",
      "Unterscheidung zwischen  K raft  und  K raft werk \n",
      "Unterscheidung zwischen  K raft  und  K raft werk  \n",
      "Unterscheidung zwischen  K raft  und  K raft werk   \n",
      "Unterscheidung zwischen  K raft  und  K raft werk    \n",
      "Unterscheidung zwischen  K raft  und  K raft werk     \n",
      "Unterscheidung zwischen  K raft  und  K raft werk     K \n",
      "Unterscheidung zwischen  K raft  und  K raft werk     K raft \n",
      "Unterscheidung zwischen  K raft  und  K raft werk     K raft  \n",
      "Unterscheidung zwischen  K raft  und  K raft werk     K raft  und \n",
      "Unterscheidung zwischen  K raft  und  K raft werk     K raft  und  \n",
      "Unterscheidung zwischen  K raft  und  K raft werk     K raft  und  K \n",
      "Unterscheidung zwischen  K raft  und  K raft werk     K raft  und  K raft \n",
      "Unterscheidung zwischen  K raft  und  K raft werk     K raft  und  K raft werk \n",
      "Unterscheidung zwischen  K raft  und  K raft werk     K raft  und  K raft werk  \n",
      "Unterscheidung zwischen  K raft  und  K raft werk     K raft  und  K raft werk  sind \n",
      "Unterscheidung zwischen  K raft  und  K raft werk     K raft  und  K raft werk  sind two \n",
      "Unterscheidung zwischen  K raft  und  K raft werk     K raft  und  K raft werk  sind two different \n",
      "Unterscheidung zwischen  K raft  und  K raft werk     K raft  und  K raft werk  sind two different German \n",
      "Unterscheidung zwischen  K raft  und  K raft werk     K raft  und  K raft werk  sind two different German words \n",
      "Unterscheidung zwischen  K raft  und  K raft werk     K raft  und  K raft werk  sind two different German words that \n"
     ]
    }
   ],
   "source": [
    "import regex as re\n",
    "\n",
    "sequence = \"\"\n",
    "model_inputs = tokenizer(sequence, return_tensors=\"pt\").to(device)\n",
    "\n",
    "generated_answer = \"\"\n",
    "for _ in range(30):\n",
    "    with torch.no_grad():\n",
    "        outputs = model(**model_inputs)\n",
    "        logits = outputs['logits'][0, -1, :]\n",
    "        probabilities = torch.nn.functional.softmax(logits, dim=-1)\n",
    "        next_token_id = torch.argmax(probabilities).unsqueeze(0)\n",
    "        model_inputs[\"input_ids\"] = torch.cat([model_inputs[\"input_ids\"], next_token_id.unsqueeze(0)], dim=-1)\n",
    "    \n",
    "    next_word = tokenizer.decode(next_token_id.tolist())\n",
    "    next_word = re.sub(r\"[^a-zA-Z0-9.?!]\", \"\", next_word)\n",
    "    generated_answer += next_word\n",
    "    generated_answer += \" \"\n",
    "    \n",
    "    print(generated_answer)"
   ]
  },
  {
   "cell_type": "markdown",
   "metadata": {},
   "source": [
    "## 3 Flow-based modeling"
   ]
  },
  {
   "cell_type": "markdown",
   "metadata": {},
   "source": [
    "### (a)\n",
    "$$\n",
    "Y' = CDF_Y^{-1}(X) \\Leftrightarrow CDF_Y(Y')=X\n",
    "$$\n",
    "And\n",
    "$$\n",
    "CDF_Y(Y)=X\n",
    "$$\n",
    "per definition.\n",
    "$$\n",
    "\\Rightarrow Y = Y'\n",
    "$$\n",
    "Both distributions are equal, therefore their CDF and PDF are qual."
   ]
  },
  {
   "cell_type": "markdown",
   "metadata": {},
   "source": [
    "### (b)"
   ]
  },
  {
   "cell_type": "markdown",
   "metadata": {},
   "source": [
    "For each random distribution X and Y it holds:\n",
    "$$\n",
    "CDF_X(X)=U, CDF_Y(Y)=U\n",
    "$$\n",
    "where U is a uniform distribution between 0 and 1. A transformation of one distribution to another can be therefore obtained by the following formula.\n",
    "$$\n",
    "CDF_X(X)=CDF_Y(Y) \\\\\n",
    "\\Leftrightarrow Y = CDF_Y^{-1}(CDF_X(X))\n",
    "$$\n",
    "The CDF of a distribution can be calculated from:\n",
    "$$\n",
    "CDF_Y(x) = \\int_{-\\inf}^x p_Y(x) dx\n",
    "$$\n",
    "\n",
    "For $p_X(x) = \\frac{1}{2}x, x \\in [0,2]$:\n",
    "$$\n",
    "CDF_X(x) = \\int_{0}^x  \\frac{1}{2}x dx = \\frac{1}{4}x^2\n",
    "$$\n",
    "For $p_Y(y) = -\\frac{1}{2}y+1, y \\in [0,2]$:\n",
    "$$\n",
    "CDF_Y(y) = \\int_{0}^y  -\\frac{1}{2}y+1 dy = -\\frac{1}{4}y^2+y\\\\\n",
    "\\Leftrightarrow 0 = y^2-4y+4CDF_Y(y)\\\\\n",
    "\\Leftrightarrow y=2 \\pm \\sqrt{4-4CDF_Y(y)}\\\\\n",
    "\\Leftrightarrow y=2 \\pm 2\\sqrt{1-CDF_Y(y)}\n",
    "$$\n",
    "condsidering $y \\in [0,2]$ the solution limits to:\n",
    "$$\n",
    "CDF_Y(u)^{-1}=2 - 2\\sqrt{1-u}\n",
    "$$\n",
    "with $ u \\in U $\n",
    "\n",
    "The resulting transformation is:\n",
    "$$\n",
    "y = 2 - 2\\sqrt{1-\\frac{1}{4}x^2}\n",
    "$$"
   ]
  },
  {
   "cell_type": "code",
   "execution_count": 1,
   "metadata": {},
   "outputs": [
    {
     "data": {
      "image/png": "[encoded data removed]",
      "text/plain": [
       "<Figure size 640x480 with 1 Axes>"
      ]
     },
     "metadata": {},
     "output_type": "display_data"
    }
   ],
   "source": [
    "import numpy as np\n",
    "import matplotlib.pyplot as plt\n",
    "\n",
    "# load the 1d samples:\n",
    "samples = np.load(\"data/samples_1d.npy\")\n",
    "\n",
    "x_lin = np.linspace(0, 2, 1000)\n",
    "plt.hist(samples, bins=50, density=True)\n",
    "plt.plot(x_lin, 1/2 * x_lin, label=\"pdf(x) = 1/2*x, x in [0,2]\")\n",
    "plt.legend()\n",
    "plt.show()"
   ]
  },
  {
   "cell_type": "code",
   "execution_count": 2,
   "metadata": {},
   "outputs": [
    {
     "data": {
      "image/png": "[encoded data removed]",
      "text/plain": [
       "<Figure size 640x480 with 1 Axes>"
      ]
     },
     "metadata": {},
     "output_type": "display_data"
    }
   ],
   "source": [
    "# TODO: transform the samples to samples from pdf(y) = -1/2*y + 1, y in [0,2]\n",
    "def transform(x):\n",
    "    return 2-2*np.sqrt(1-1/4 * x**2)\n",
    "\n",
    "y = transform(samples)\n",
    "\n",
    "y_lin = np.linspace(0, 2, 1000)\n",
    "plt.hist(y, bins=50, density=True)\n",
    "plt.plot(y_lin, -1/2 * y_lin + 1, label=\"pdf(y) = -1/2*y+1, y in [0,2]\")\n",
    "plt.legend()\n",
    "plt.show()"
   ]
  },
  {
   "cell_type": "markdown",
   "metadata": {},
   "source": [
    "### (c)"
   ]
  },
  {
   "cell_type": "markdown",
   "metadata": {},
   "source": [
    "Using the marginal radial distribution $p_r(r)=re^{-r^2/2}, r\\geq0$ for the radial component. The CDF_r becomes:\n",
    "$$\n",
    "CDF_r(x)=\\int_0^x xe^{-x^2/2}dx=1-e^{-x^2/2}\\\\\n",
    "\\Leftrightarrow x = \\sqrt{-2ln(1-CDF_r(x))}\n",
    "$$\n",
    "Using that $CDF_r(r)= U$. With U being a uniform distributon $U \\in [0,1]$. It holds $1-U =U$, simplifying the expression:\n",
    "$$\n",
    "CDF_r^{-1} = \\sqrt{-2ln(CDF_r(x))}\n",
    "$$\n",
    "As $CDF_U(x)=x$ the transform of the uniform variable to the radial variable becomes:\n",
    "$$\n",
    "r = \\sqrt{-2ln(U)}\n",
    "$$\n",
    "Looking at $\\phi$ the distribution is $p_{\\phi}(\\phi)=\\frac{1}{2\\pi}$ with $\\phi \\in [0,2\\pi]$. \n",
    "$$\n",
    "CDF_{\\phi}(x)=\\int_0^{x}\\frac{1}{2\\pi}dx = \\frac{x}{2\\pi}\\\\\n",
    "\\Leftrightarrow x = 2\\pi CDF_{\\phi}(x)\n",
    "$$\n",
    "Resulting in the transformation:\n",
    "$$\n",
    "\\phi = 2\\pi U\n",
    "$$\n",
    "Using that $(x1, x2) = r(cos \\phi,sin \\phi)$ gives a 2D standard normal distribution, the Box-Müller tranform becomes:\n",
    "$$\n",
    "\\sqrt{-2ln(U_1)}(cos 2\\pi U_2,sin 2\\pi U_2)\n",
    "$$\n",
    "$U_1,U_2 \\in [0,1]$ are uniform distributions.\n",
    "\n"
   ]
  },
  {
   "cell_type": "markdown",
   "metadata": {},
   "source": [
    "### (d)\n",
    "In general mulitvariate distributions can have non separable marginals, not analytically tractable marignal distributions, not closed form CDFs or non invertible CDFs. In all those cases the method is not applicable."
   ]
  },
  {
   "cell_type": "markdown",
   "metadata": {},
   "source": [
    "### (e)\n",
    "$$\n",
    "CDF_X(x)=CDF_Y(y) = CDF_Y(h(x))\n",
    "$$\n",
    "I h(x) is increasing, else:\n",
    "$$\n",
    "CDF_X(x)=1-CDF_Y(h(x))\n",
    "$$\n",
    "The difference in further calculations is up to sign and is considered in the later calculation by taking the absoulte value of the derivative of h.\n",
    "$$\n",
    "\\Rightarrow\\frac{d}{dx}CDF_X(x) =\\frac{d}{dx}CDF_Y(h(x))\\\\\n",
    "\\Leftrightarrow p_X(x) = \\frac{d}{dy}CDF_Y(y)\\left|\\frac{d}{dx}h(x)\\right|\n",
    "$$\n",
    "Use $y=h(x)$ and add dashes to the $\\frac{d}{dx}h(x)$ due to the fact that the probabilites are larger or eqal than zero per definition.\n",
    "$$\n",
    "\\Leftrightarrow p_X(x) = p_Y(y)\\frac{dh}{dx}(x)\\Big|_{y=h(x)} \\\\\n",
    "\\Leftrightarrow \\left( p_X(x)\\left| {\\frac{dh}{dx}(x)} \\right| ^{-1}\\right)\\Bigg|_{x=h^{-1}(y)} =p_Y(y)\n",
    "$$"
   ]
  },
  {
   "cell_type": "markdown",
   "metadata": {},
   "source": []
  }
 ],
 "metadata": {
  "kernelspec": {
   "display_name": "mlph3",
   "language": "python",
   "name": "python3"
  },
  "language_info": {
   "codemirror_mode": {
    "name": "ipython",
    "version": 3
   },
   "file_extension": ".py",
   "mimetype": "text/x-python",
   "name": "python",
   "nbconvert_exporter": "python",
   "pygments_lexer": "ipython3",
   "version": "3.9.21"
  }
 },
 "nbformat": 4,
 "nbformat_minor": 2
}
