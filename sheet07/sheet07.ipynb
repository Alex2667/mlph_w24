{
 "cells": [
  {
   "cell_type": "markdown",
   "metadata": {},
   "source": [
    "## 1 Reverse Mode Automatic Differentiation\n",
    "### d)"
   ]
  },
  {
   "cell_type": "code",
   "execution_count": 8,
   "metadata": {},
   "outputs": [
    {
     "name": "stdout",
     "output_type": "stream",
     "text": [
      "Derivative with respect to x: 48.756893157958984\n",
      "Derivative with respect to c: -10.0\n"
     ]
    }
   ],
   "source": [
    "import torch\n",
    "\n",
    "x = torch.tensor(3.0, requires_grad=True)\n",
    "c = torch.tensor(5.0, requires_grad=True)\n",
    "\n",
    "f1 = x**2  \n",
    "f2 = torch.log(x) \n",
    "f3 = f1 / f2 \n",
    "f4 = f3 + c  \n",
    "f5 = f3 - c  \n",
    "output = f4 * f5 \n",
    "\n",
    "output.backward()\n",
    "\n",
    "dx = x.grad \n",
    "dc = c.grad \n",
    "\n",
    "print(f\"Derivative with respect to x: {dx}\")\n",
    "print(f\"Derivative with respect to c: {dc}\")\n"
   ]
  },
  {
   "cell_type": "markdown",
   "metadata": {},
   "source": [
    "solution is different from calculated x with 0.5 distance, which is due to the rounding of intermediate steps in the calculation by hand."
   ]
  },
  {
   "cell_type": "markdown",
   "metadata": {},
   "source": [
    "## 3 Receptive Field of VGG16\n",
    "### a)"
   ]
  },
  {
   "cell_type": "code",
   "execution_count": 1,
   "metadata": {},
   "outputs": [
    {
     "data": {
      "text/plain": [
       "212"
      ]
     },
     "execution_count": 1,
     "metadata": {},
     "output_type": "execute_result"
    }
   ],
   "source": [
    "arch = [0,0,1,0,0,1,0,0,0,1,0,0,0,1,0,0,0,1]\n",
    "r = 1 \n",
    "j = 1\n",
    "\n",
    "for layer in arch:\n",
    "    if layer == 0: # 0 for conv\n",
    "        k = 3\n",
    "        s = 1\n",
    "    elif layer == 1: # 1 for maxpool\n",
    "        k = 2\n",
    "        s = 2\n",
    "    else:\n",
    "        print(\"not known layer\")\n",
    "    r += (k-1)*j\n",
    "    j *= s\n",
    "\n",
    "r"
   ]
  },
  {
   "cell_type": "markdown",
   "metadata": {},
   "source": [
    "### b)"
   ]
  },
  {
   "cell_type": "code",
   "execution_count": null,
   "metadata": {},
   "outputs": [
    {
     "name": "stdout",
     "output_type": "stream",
     "text": [
      "# total params: 129066664\n",
      "# fc params: 123642856\n",
      "# conv params: 5423808\n",
      "ratio: 0.043866731774620284\n"
     ]
    }
   ],
   "source": [
    "def conv_param(filters, inp_chan, k):\n",
    "    return filters * (inp_chan * k +1)\n",
    "\n",
    "def fc_param(inputs, outputs):\n",
    "    return inputs * outputs + outputs\n",
    "\n",
    "layers_conv = [[64,3,3],[64,64,3],[128,128,3],\n",
    "               [128,128,3],[256,256,3],[256,256,3],\n",
    "               [256,256,3],[512,512,3],[512,512,3],\n",
    "               [512,512,3],[512,512,3],[512,512,3],\n",
    "               [512,512,3]]\n",
    "\n",
    "conv_params = 0\n",
    "for layer in layers_conv:\n",
    "    conv_params += conv_param(*layer)\n",
    "\n",
    "layers_fc = [[7*7*512,4096],[4096,4096],[4096,1000]]\n",
    "\n",
    "fc_params = 0\n",
    "for layer in layers_fc:\n",
    "    fc_params += fc_param(*layer)\n",
    "\n",
    "print(f\"# total params: {fc_params+conv_params}\")\n",
    "print(f\"# fc params: {fc_params}\")\n",
    "print(f\"# conv params: {conv_params}\")\n",
    "print(f\"ratio: {conv_params/fc_params}\")"
   ]
  }
 ],
 "metadata": {
  "kernelspec": {
   "display_name": "mlph3",
   "language": "python",
   "name": "python3"
  },
  "language_info": {
   "codemirror_mode": {
    "name": "ipython",
    "version": 3
   },
   "file_extension": ".py",
   "mimetype": "text/x-python",
   "name": "python",
   "nbconvert_exporter": "python",
   "pygments_lexer": "ipython3",
   "version": "3.9.20"
  }
 },
 "nbformat": 4,
 "nbformat_minor": 2
}
