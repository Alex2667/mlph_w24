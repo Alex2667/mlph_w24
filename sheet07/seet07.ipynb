{
 "cells": [
  {
   "cell_type": "markdown",
   "metadata": {},
   "source": [
    "## 1\n",
    "### d)"
   ]
  },
  {
   "cell_type": "code",
   "execution_count": 8,
   "metadata": {},
   "outputs": [
    {
     "name": "stdout",
     "output_type": "stream",
     "text": [
      "Derivative with respect to x: 48.756893157958984\n",
      "Derivative with respect to c: -10.0\n"
     ]
    }
   ],
   "source": [
    "import torch\n",
    "\n",
    "x = torch.tensor(3.0, requires_grad=True)\n",
    "c = torch.tensor(5.0, requires_grad=True)\n",
    "\n",
    "f1 = x**2  \n",
    "f2 = torch.log(x) \n",
    "f3 = f1 / f2 \n",
    "f4 = f3 + c  \n",
    "f5 = f3 - c  \n",
    "output = f4 * f5 \n",
    "\n",
    "output.backward()\n",
    "\n",
    "dx = x.grad \n",
    "dc = c.grad \n",
    "\n",
    "print(f\"Derivative with respect to x: {dx}\")\n",
    "print(f\"Derivative with respect to c: {dc}\")\n"
   ]
  },
  {
   "cell_type": "markdown",
   "metadata": {},
   "source": [
    "solution is different from calculated x with 0.5 distance, which is due to the rounding of intermediate steps in the calculation by hand."
   ]
  },
  {
   "cell_type": "code",
   "execution_count": null,
   "metadata": {},
   "outputs": [],
   "source": []
  }
 ],
 "metadata": {
  "kernelspec": {
   "display_name": "mlph3",
   "language": "python",
   "name": "python3"
  },
  "language_info": {
   "codemirror_mode": {
    "name": "ipython",
    "version": 3
   },
   "file_extension": ".py",
   "mimetype": "text/x-python",
   "name": "python",
   "nbconvert_exporter": "python",
   "pygments_lexer": "ipython3",
   "version": "3.9.20"
  }
 },
 "nbformat": 4,
 "nbformat_minor": 2
}
